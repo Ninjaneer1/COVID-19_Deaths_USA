{
 "cells": [
  {
   "cell_type": "code",
   "execution_count": 1,
   "metadata": {},
   "outputs": [],
   "source": [
    "#Import all the libraries that will be used\n",
    "import pandas as pd\n",
    "import numpy as np\n",
    "\n",
    "from scipy import stats\n",
    "import statsmodels.api as sm\n",
    "\n",
    "from statsmodels.graphics.gofplots import qqplot\n",
    "from statsmodels.stats.multitest import multipletests\n",
    "\n",
    "import seaborn as sns\n",
    "import matplotlib.pyplot as plt\n",
    "\n",
    "%matplotlib inline\n",
    "\n",
    "#define where to find the data\n",
    "path = 'data/Provisional_COVID-19.csv'"
   ]
  },
  {
   "cell_type": "markdown",
   "metadata": {},
   "source": [
    "The following data was provided by National Center for Health Statistics (NCHS) through the Center for Disease Control and Prevention (CDC) and can be found at: https://data.cdc.gov/NCHS/Provisional-COVID-19-Death-Counts-by-Sex-Age-and-S/9bhg-hcku ."
   ]
  },
  {
   "cell_type": "markdown",
   "metadata": {},
   "source": [
    "This data set contains the reported death counts associated with COVID-19, Influenza, and Pneumonia, for dates from 2-11-2020 to 11-7-2020 in the United States of America. The data has some overlapping age groups to be aware of, and it also has some overlapping state and sex groups of which to be aware."
   ]
  },
  {
   "cell_type": "markdown",
   "metadata": {},
   "source": [
    "The goal for this research is to see if there are statistically signicant differences in the reported deaths related to COVID-19 by age group. The data will be seperated such that there is no overlap, and the groups will contain enough elements in each group for a sound comparison."
   ]
  },
  {
   "cell_type": "markdown",
   "metadata": {},
   "source": [
    "Depending on the findings, the difference in deaths for each age group for COVID-19 cases may be compared with the differences in deaths reported for Influenza or Pneumonia cases."
   ]
  },
  {
   "cell_type": "markdown",
   "metadata": {},
   "source": [
    "The null hypothesis for this experiment is the either\n",
    "the the difference in means, or difference of medians, depending on how the data sets are distributed, will be ~0.\n",
    "The alternative hypothesis is then that the difference in the means, or medians, will be significantly different."
   ]
  },
  {
   "cell_type": "markdown",
   "metadata": {},
   "source": [
    "When comparing the data, I will use an alpha value of 0.05. If the data is normal enough, I will utilize an independent t-test, given the data sets are indepent of each other, or ANOVA test for more than 2 normal data sets.\n",
    "Should the data be non-normal but have similar distributions, a Kruskal Wallis test will be put to use.\n",
    "Then post hoc analysis will be performed to show the confidence interval and the common language effect size."
   ]
  },
  {
   "cell_type": "markdown",
   "metadata": {},
   "source": [
    "These comparisons could potentially hold a tremendous amount of value to the healthcare industry and the government.\n",
    "Decisions about projected healthcare resources needed, social mandates, and how to prioritize countermeasures to the grow of the epidemic are all examples of how this information may have an influence."
   ]
  },
  {
   "cell_type": "markdown",
   "metadata": {},
   "source": [
    "The intended audience for this research project will have only a limited amount of knowledge in statistics. The goal for the presenter is to translate the findings of the research into lay terms that a broader audience can follow.\n"
   ]
  },
  {
   "cell_type": "markdown",
   "metadata": {},
   "source": [
    "Included in this repository is a notebook with the data analysis that has thus been completed as of 11/16/2020."
   ]
  },
  {
   "cell_type": "code",
   "execution_count": null,
   "metadata": {},
   "outputs": [],
   "source": []
  }
 ],
 "metadata": {
  "kernelspec": {
   "display_name": "Python 3",
   "language": "python",
   "name": "python3"
  },
  "language_info": {
   "codemirror_mode": {
    "name": "ipython",
    "version": 3
   },
   "file_extension": ".py",
   "mimetype": "text/x-python",
   "name": "python",
   "nbconvert_exporter": "python",
   "pygments_lexer": "ipython3",
   "version": "3.8.3"
  }
 },
 "nbformat": 4,
 "nbformat_minor": 4
}
