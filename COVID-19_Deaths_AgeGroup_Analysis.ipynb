{
 "cells": [
  {
   "cell_type": "code",
   "execution_count": 1,
   "metadata": {},
   "outputs": [],
   "source": [
    "#Import all the libraries that will be used\n",
    "import pandas as pd\n",
    "import numpy as np\n",
    "\n",
    "from scipy import stats\n",
    "import statsmodels.api as sm\n",
    "\n",
    "from statsmodels.graphics.gofplots import qqplot\n",
    "from statsmodels.stats.multitest import multipletests\n",
    "\n",
    "import seaborn as sns\n",
    "import matplotlib.pyplot as plt\n",
    "\n",
    "%matplotlib inline\n",
    "\n",
    "#define where to find the data\n",
    "path = 'data/Provisional_COVID-19.csv'"
   ]
  },
  {
   "cell_type": "code",
   "execution_count": 2,
   "metadata": {},
   "outputs": [],
   "source": [
    "# defining some functions that will be used later\n",
    "\n",
    "def calc_non_param_ci(x1, x2, alpha=0.05):\n",
    "    \"\"\"Calc confidence interval for 2 group median test\n",
    "\n",
    "    Process:\n",
    "      * Find all pairwise diffs\n",
    "      * Sort diffs\n",
    "      * Find appropriate value of k\n",
    "      * Choose lower bound from diffs as: diffs[k]\n",
    "      * Choose upper bound from diffs as: diffs[-k]\n",
    "\n",
    "    Based on: https://www.ncbi.nlm.nih.gov/pmc/articles/PMC2545906/\n",
    "\n",
    "    :param x1: sample 1\n",
    "    :param x2: sample 2\n",
    "    :param alpha: significance level\n",
    "    :return: (tuple) confidence interval bounds\n",
    "    \"\"\"\n",
    "    x1 = np.array(x1)\n",
    "    x2 = np.array(x2)\n",
    "\n",
    "    n1 = x1.size\n",
    "    n2 = x2.size\n",
    "    cv = stats.norm.ppf(1 - alpha / 2)\n",
    "\n",
    "    # Find pairwise differences for every datapoint in each group\n",
    "    diffs = (x1[:, None] - x2).flatten()\n",
    "    diffs.sort()\n",
    "\n",
    "    # For an approximate (1-a)% confidence interval first calculate K:\n",
    "    k = int(round(n1 * n2 / 2 - (cv * (n1 * n2 * (n1 + n2 + 1) / 12) ** 0.5)))\n",
    "\n",
    "    # The Kth smallest to the Kth largest of the n x m differences\n",
    "    # n1 and n2 should be > ~20\n",
    "    ci_lo = diffs[k]\n",
    "    ci_hi = diffs[-k]\n",
    "\n",
    "    return ci_lo, ci_hi\n",
    "\n",
    "def cles_ind(x1, x2):\n",
    "    \"\"\"Calc common language effect size\n",
    "\n",
    "    Interpret as the probability that a score sampled\n",
    "    at random from one distribution will be greater than\n",
    "    a score sampled from some other distribution.\n",
    "\n",
    "    Based on: http://psycnet.apa.org/doi/10.1037/0033-2909.111.2.361\n",
    "\n",
    "    :param x1: sample 1\n",
    "    :param x2: sample 2\n",
    "    :return: (float) common language effect size\n",
    "    \"\"\"\n",
    "    x1 = np.array(x1)\n",
    "    x2 = np.array(x2)\n",
    "\n",
    "    diff = x1[:, None] - x2\n",
    "    cles = max((diff < 0).sum(), (diff > 0).sum()) / diff.size\n",
    "\n",
    "    return cles"
   ]
  },
  {
   "cell_type": "markdown",
   "metadata": {},
   "source": [
    "The following data was provided by National Center for Health Statistics (NCHS) through the Center for Disease Control and Prevention (CDC) and can be found at: https://data.cdc.gov/NCHS/Provisional-COVID-19-Death-Counts-by-Sex-Age-and-S/9bhg-hcku ."
   ]
  },
  {
   "cell_type": "code",
   "execution_count": 4,
   "metadata": {},
   "outputs": [
    {
     "data": {
      "text/html": [
       "<div>\n",
       "<style scoped>\n",
       "    .dataframe tbody tr th:only-of-type {\n",
       "        vertical-align: middle;\n",
       "    }\n",
       "\n",
       "    .dataframe tbody tr th {\n",
       "        vertical-align: top;\n",
       "    }\n",
       "\n",
       "    .dataframe thead th {\n",
       "        text-align: right;\n",
       "    }\n",
       "</style>\n",
       "<table border=\"1\" class=\"dataframe\">\n",
       "  <thead>\n",
       "    <tr style=\"text-align: right;\">\n",
       "      <th></th>\n",
       "      <th>Data as of</th>\n",
       "      <th>Start week</th>\n",
       "      <th>End Week</th>\n",
       "      <th>State</th>\n",
       "      <th>Sex</th>\n",
       "      <th>Age group</th>\n",
       "      <th>COVID-19 Deaths</th>\n",
       "      <th>Total Deaths</th>\n",
       "      <th>Pneumonia Deaths</th>\n",
       "      <th>Pneumonia and COVID-19 Deaths</th>\n",
       "      <th>Influenza Deaths</th>\n",
       "      <th>Pneumonia, Influenza, or COVID-19 Deaths</th>\n",
       "      <th>Footnote</th>\n",
       "    </tr>\n",
       "  </thead>\n",
       "  <tbody>\n",
       "    <tr>\n",
       "      <th>0</th>\n",
       "      <td>11/12/2020</td>\n",
       "      <td>02/01/2020</td>\n",
       "      <td>11/07/2020</td>\n",
       "      <td>United States</td>\n",
       "      <td>All Sexes</td>\n",
       "      <td>All Ages</td>\n",
       "      <td>223984.0</td>\n",
       "      <td>2452180.0</td>\n",
       "      <td>228934.0</td>\n",
       "      <td>101910.0</td>\n",
       "      <td>6789.0</td>\n",
       "      <td>356777.0</td>\n",
       "      <td>NaN</td>\n",
       "    </tr>\n",
       "    <tr>\n",
       "      <th>1</th>\n",
       "      <td>11/12/2020</td>\n",
       "      <td>02/01/2020</td>\n",
       "      <td>11/07/2020</td>\n",
       "      <td>United States</td>\n",
       "      <td>All Sexes</td>\n",
       "      <td>Under 1 year</td>\n",
       "      <td>26.0</td>\n",
       "      <td>13879.0</td>\n",
       "      <td>131.0</td>\n",
       "      <td>4.0</td>\n",
       "      <td>16.0</td>\n",
       "      <td>169.0</td>\n",
       "      <td>NaN</td>\n",
       "    </tr>\n",
       "    <tr>\n",
       "      <th>2</th>\n",
       "      <td>11/12/2020</td>\n",
       "      <td>02/01/2020</td>\n",
       "      <td>11/07/2020</td>\n",
       "      <td>United States</td>\n",
       "      <td>All Sexes</td>\n",
       "      <td>0-17 years</td>\n",
       "      <td>115.0</td>\n",
       "      <td>24593.0</td>\n",
       "      <td>384.0</td>\n",
       "      <td>18.0</td>\n",
       "      <td>124.0</td>\n",
       "      <td>605.0</td>\n",
       "      <td>NaN</td>\n",
       "    </tr>\n",
       "    <tr>\n",
       "      <th>3</th>\n",
       "      <td>11/12/2020</td>\n",
       "      <td>02/01/2020</td>\n",
       "      <td>11/07/2020</td>\n",
       "      <td>United States</td>\n",
       "      <td>All Sexes</td>\n",
       "      <td>1-4 years</td>\n",
       "      <td>16.0</td>\n",
       "      <td>2598.0</td>\n",
       "      <td>88.0</td>\n",
       "      <td>2.0</td>\n",
       "      <td>42.0</td>\n",
       "      <td>144.0</td>\n",
       "      <td>NaN</td>\n",
       "    </tr>\n",
       "    <tr>\n",
       "      <th>4</th>\n",
       "      <td>11/12/2020</td>\n",
       "      <td>02/01/2020</td>\n",
       "      <td>11/07/2020</td>\n",
       "      <td>United States</td>\n",
       "      <td>All Sexes</td>\n",
       "      <td>5-14 years</td>\n",
       "      <td>39.0</td>\n",
       "      <td>4139.0</td>\n",
       "      <td>114.0</td>\n",
       "      <td>7.0</td>\n",
       "      <td>53.0</td>\n",
       "      <td>199.0</td>\n",
       "      <td>NaN</td>\n",
       "    </tr>\n",
       "  </tbody>\n",
       "</table>\n",
       "</div>"
      ],
      "text/plain": [
       "   Data as of  Start week    End Week          State        Sex     Age group  \\\n",
       "0  11/12/2020  02/01/2020  11/07/2020  United States  All Sexes      All Ages   \n",
       "1  11/12/2020  02/01/2020  11/07/2020  United States  All Sexes  Under 1 year   \n",
       "2  11/12/2020  02/01/2020  11/07/2020  United States  All Sexes    0-17 years   \n",
       "3  11/12/2020  02/01/2020  11/07/2020  United States  All Sexes     1-4 years   \n",
       "4  11/12/2020  02/01/2020  11/07/2020  United States  All Sexes    5-14 years   \n",
       "\n",
       "   COVID-19 Deaths  Total Deaths  Pneumonia Deaths  \\\n",
       "0         223984.0     2452180.0          228934.0   \n",
       "1             26.0       13879.0             131.0   \n",
       "2            115.0       24593.0             384.0   \n",
       "3             16.0        2598.0              88.0   \n",
       "4             39.0        4139.0             114.0   \n",
       "\n",
       "   Pneumonia and COVID-19 Deaths  Influenza Deaths  \\\n",
       "0                       101910.0            6789.0   \n",
       "1                            4.0              16.0   \n",
       "2                           18.0             124.0   \n",
       "3                            2.0              42.0   \n",
       "4                            7.0              53.0   \n",
       "\n",
       "   Pneumonia, Influenza, or COVID-19 Deaths Footnote  \n",
       "0                                  356777.0      NaN  \n",
       "1                                     169.0      NaN  \n",
       "2                                     605.0      NaN  \n",
       "3                                     144.0      NaN  \n",
       "4                                     199.0      NaN  "
      ]
     },
     "execution_count": 4,
     "metadata": {},
     "output_type": "execute_result"
    }
   ],
   "source": [
    "df = pd.read_csv(path) #move data into a pandas dataframe\n",
    "df.head() # preview the top five rows"
   ]
  },
  {
   "cell_type": "markdown",
   "metadata": {},
   "source": [
    "Now that the data has been previewed, it is time to do some cleaning and exploring. \n",
    "* The data has been groupped together in a variety of 'Age groups', some of which overlap with other 'Age groups'.\n",
    "* The data will be filtered in such a way as to eliminate any and all duplications per category. (i.e. 'State: United States' will be overlapping with the data that corresponds with the individual states in the 'State' column.)\n",
    "* The data will be seperated into groups that contain enough elements for a sound comparison."
   ]
  },
  {
   "cell_type": "code",
   "execution_count": 5,
   "metadata": {},
   "outputs": [],
   "source": [
    "# remove unwanted rows to prevent duplicate accounting of entries\n",
    "nolist = ['All Ages', 'Under 1 year', '1-4 years', '5-14 years', '15-24 years', '25-34 years', '35-44 years', '45-54 years', '55-64 years' ]\n",
    "for x in nolist:\n",
    "    df = df[df['Age group'] != x]"
   ]
  },
  {
   "cell_type": "code",
   "execution_count": 6,
   "metadata": {},
   "outputs": [
    {
     "data": {
      "text/plain": [
       "65-74 years          163\n",
       "75-84 years          163\n",
       "30-49 years          163\n",
       "0-17 years           163\n",
       "50-64 years          163\n",
       "85 years and over    163\n",
       "18-29 years          163\n",
       "Name: Age group, dtype: int64"
      ]
     },
     "execution_count": 6,
     "metadata": {},
     "output_type": "execute_result"
    }
   ],
   "source": [
    "# see how many elements per datasets we still have to work with\n",
    "df['Age group'].value_counts()\n"
   ]
  },
  {
   "cell_type": "code",
   "execution_count": 7,
   "metadata": {},
   "outputs": [
    {
     "data": {
      "text/plain": [
       "array(['0-17 years', '18-29 years', '30-49 years', '50-64 years',\n",
       "       '65-74 years', '75-84 years', '85 years and over'], dtype=object)"
      ]
     },
     "execution_count": 7,
     "metadata": {},
     "output_type": "execute_result"
    }
   ],
   "source": [
    "# observe that the 'Age group' doesn't have any overlapping data\n",
    "df['Age group'].unique()"
   ]
  },
  {
   "cell_type": "code",
   "execution_count": 8,
   "metadata": {},
   "outputs": [
    {
     "data": {
      "text/plain": [
       "array(['United States', 'Alabama', 'Alaska', 'Arizona', 'Arkansas',\n",
       "       'California', 'Colorado', 'Connecticut', 'Delaware',\n",
       "       'District of Columbia', 'Florida', 'Georgia', 'Hawaii', 'Idaho',\n",
       "       'Illinois', 'Indiana', 'Iowa', 'Kansas', 'Kentucky', 'Louisiana',\n",
       "       'Maine', 'Maryland', 'Massachusetts', 'Michigan', 'Minnesota',\n",
       "       'Mississippi', 'Missouri', 'Montana', 'Nebraska', 'Nevada',\n",
       "       'New Hampshire', 'New Jersey', 'New Mexico', 'New York',\n",
       "       'New York City', 'North Carolina', 'North Dakota', 'Ohio',\n",
       "       'Oklahoma', 'Oregon', 'Pennsylvania', 'Rhode Island',\n",
       "       'South Carolina', 'South Dakota', 'Tennessee', 'Texas', 'Utah',\n",
       "       'Vermont', 'Virginia', 'Washington', 'West Virginia', 'Wisconsin',\n",
       "       'Wyoming', 'Puerto Rico'], dtype=object)"
      ]
     },
     "execution_count": 8,
     "metadata": {},
     "output_type": "execute_result"
    }
   ],
   "source": [
    "#see if any overlap occurs in other categories...\n",
    "df['State'].unique()"
   ]
  },
  {
   "cell_type": "code",
   "execution_count": 9,
   "metadata": {},
   "outputs": [
    {
     "data": {
      "text/plain": [
       "array(['Male', 'Female', 'Unknown'], dtype=object)"
      ]
     },
     "execution_count": 9,
     "metadata": {},
     "output_type": "execute_result"
    }
   ],
   "source": [
    "# removing overlap in the 'State' column\n",
    "df = df[df['State'] != 'United States']\n",
    "\n",
    "# check to see if there is any overlap in the 'Sex' column\n",
    "df['Sex'].unique()"
   ]
  },
  {
   "cell_type": "code",
   "execution_count": 13,
   "metadata": {},
   "outputs": [],
   "source": [
    "# Here is another overlap that I have caught. There is two reportings for New York and New York City.\n",
    "# I will investigate how these values are related.\n",
    "df_NY = df[df['State'] == \"New York\"]\n",
    "df_NYC = df[df['State'] == \"New York City\"]\n"
   ]
  },
  {
   "cell_type": "code",
   "execution_count": 14,
   "metadata": {},
   "outputs": [
    {
     "data": {
      "text/plain": [
       "count      19.000000\n",
       "mean      631.315789\n",
       "std       817.918160\n",
       "min         0.000000\n",
       "25%         0.000000\n",
       "50%       118.000000\n",
       "75%      1291.500000\n",
       "max      2714.000000\n",
       "Name: COVID-19 Deaths, dtype: float64"
      ]
     },
     "execution_count": 14,
     "metadata": {},
     "output_type": "execute_result"
    }
   ],
   "source": [
    "# I will observe the results of .describe() for NY and NYC to see if there are any clues there.\n",
    "df_NY['COVID-19 Deaths'].describe()"
   ]
  },
  {
   "cell_type": "code",
   "execution_count": 15,
   "metadata": {},
   "outputs": [
    {
     "data": {
      "text/plain": [
       "count      18.000000\n",
       "mean     1163.611111\n",
       "std      1288.490642\n",
       "min         0.000000\n",
       "25%         0.000000\n",
       "50%       590.000000\n",
       "75%      2277.250000\n",
       "max      3307.000000\n",
       "Name: COVID-19 Deaths, dtype: float64"
      ]
     },
     "execution_count": 15,
     "metadata": {},
     "output_type": "execute_result"
    }
   ],
   "source": [
    "# The max for NYC exceeds the max for NY state. If NY included NYC, \n",
    "# the max for NYC couldn't possibly exceed the max for NY, so NY must be \n",
    "# a collection of reports for everywhere in New York state that is \n",
    "# outside of New York City. \n",
    "df_NYC['COVID-19 Deaths'].describe()"
   ]
  },
  {
   "cell_type": "markdown",
   "metadata": {},
   "source": [
    "I conclude that sense the NYC deaths are much higher and the max amount for the city is greater than the max for the state, the count for the state must not include the NYC counts, and instead, it accounts for those not in NYC, but in NY state elsewhere."
   ]
  },
  {
   "cell_type": "code",
   "execution_count": 16,
   "metadata": {},
   "outputs": [
    {
     "data": {
      "text/plain": [
       "65-74 years          159\n",
       "75-84 years          159\n",
       "30-49 years          159\n",
       "0-17 years           159\n",
       "50-64 years          159\n",
       "85 years and over    159\n",
       "18-29 years          159\n",
       "Name: Age group, dtype: int64"
      ]
     },
     "execution_count": 16,
     "metadata": {},
     "output_type": "execute_result"
    }
   ],
   "source": [
    "#re-check the size of my datasets\n",
    "df['Age group'].value_counts()\n"
   ]
  },
  {
   "cell_type": "markdown",
   "metadata": {},
   "source": [
    "There are still enough elements in each age group for a reasonable comparison to be made, but we need to get an idea of how those elements are distributed. To give an idea of how these groups are distributed, a histogram is constructed. "
   ]
  },
  {
   "cell_type": "markdown",
   "metadata": {},
   "source": [
    "Upon observation of the data, the decision to remove reported death values that are less than one from dataset was made, and the question to be asked for this research project has been updated to reflect that decision. It will now be phrased as: \"Given all reportings greater than or equal to 1, are there statistically significant differences between deaths reported for each age group?\". This decision was made so that more focus can be directed towards comparing fatal activity."
   ]
  },
  {
   "cell_type": "code",
   "execution_count": 17,
   "metadata": {},
   "outputs": [
    {
     "data": {
      "text/plain": [
       "<matplotlib.axes._subplots.AxesSubplot at 0x1ecbc8ad640>"
      ]
     },
     "execution_count": 17,
     "metadata": {},
     "output_type": "execute_result"
    },
    {
     "data": {
      "image/png": "[encoded data removed]",
      "text/plain": [
       "<Figure size 432x288 with 1 Axes>"
      ]
     },
     "metadata": {
      "needs_background": "light"
     },
     "output_type": "display_data"
    }
   ],
   "source": [
    "# comparing the distribution of data with all accounts to data only including accounts of COVID-19 deaths > 0\n",
    "# this may change my question to: Of the reported COVID-19 deaths that are greater than zero, are there significant\n",
    "# differnces between age groups?\n",
    "df_nz_covid = df[df['COVID-19 Deaths'] >= 1]\n",
    "# df_nonzero['COVID-19 Deaths'].value_counts()\n",
    "df_nz_covid['COVID-19 Deaths'].hist(alpha = 0.5)\n",
    "df['COVID-19 Deaths'].hist(alpha = 0.5)"
   ]
  },
  {
   "cell_type": "code",
   "execution_count": 22,
   "metadata": {},
   "outputs": [],
   "source": [
    "# making dataframes without 0 reported Flu and Pneumonia deaths in the respective sets.\n",
    "df_nz_flu = df[df['Influenza Deaths'] >= 1]\n",
    "df_nz_pneu = df[df['Pneumonia Deaths'] >= 1]\n"
   ]
  },
  {
   "cell_type": "code",
   "execution_count": 23,
   "metadata": {},
   "outputs": [
    {
     "data": {
      "image/png": "[encoded data removed]",
      "text/plain": [
       "<Figure size 432x288 with 1 Axes>"
      ]
     },
     "metadata": {
      "needs_background": "light"
     },
     "output_type": "display_data"
    }
   ],
   "source": [
    "# comparing the non-zero distribution to the zero inclusive distribution\n",
    "df_nz_flu['Influenza Deaths'].hist(alpha = 0.5)\n",
    "df['Influenza Deaths'].hist(alpha = 0.5)\n",
    "plt.show()"
   ]
  },
  {
   "cell_type": "code",
   "execution_count": 26,
   "metadata": {},
   "outputs": [
    {
     "data": {
      "image/png": "[encoded data removed]",
      "text/plain": [
       "<Figure size 432x288 with 1 Axes>"
      ]
     },
     "metadata": {
      "needs_background": "light"
     },
     "output_type": "display_data"
    },
    {
     "data": {
      "image/png": "[encoded data removed]",
      "text/plain": [
       "<Figure size 432x288 with 1 Axes>"
      ]
     },
     "metadata": {
      "needs_background": "light"
     },
     "output_type": "display_data"
    }
   ],
   "source": [
    "# comparing box plots\n",
    "sns.boxplot(x='Age group', y='Influenza Deaths', data = df_nz_flu)\n",
    "plt.show()\n",
    "sns.boxplot(x='Age group', y='Influenza Deaths', data = df)\n",
    "plt.show()\n",
    "# It is shown in the box plots that only signicant data in the non-zero data starts with Age 30 and up,\n",
    "# so those remaining age groups can be compared.('30-49', '50-64', '65-74', '75-84', '85+')"
   ]
  },
  {
   "cell_type": "code",
   "execution_count": 28,
   "metadata": {},
   "outputs": [
    {
     "data": {
      "image/png": "[encoded data removed]",
      "text/plain": [
       "<Figure size 432x288 with 1 Axes>"
      ]
     },
     "metadata": {
      "needs_background": "light"
     },
     "output_type": "display_data"
    }
   ],
   "source": [
    "# comparing the non-zero distribution to the zero inclusive distribution\n",
    "df_nz_pneu['Pneumonia Deaths'].hist(alpha = 0.5)\n",
    "df['Pneumonia Deaths'].hist(alpha = 0.5)\n",
    "plt.show()"
   ]
  },
  {
   "cell_type": "code",
   "execution_count": 27,
   "metadata": {},
   "outputs": [
    {
     "data": {
      "image/png": "[encoded data removed]",
      "text/plain": [
       "<Figure size 432x288 with 1 Axes>"
      ]
     },
     "metadata": {
      "needs_background": "light"
     },
     "output_type": "display_data"
    },
    {
     "data": {
      "image/png": "[encoded data removed]",
      "text/plain": [
       "<Figure size 432x288 with 1 Axes>"
      ]
     },
     "metadata": {
      "needs_background": "light"
     },
     "output_type": "display_data"
    }
   ],
   "source": [
    "# comparing box plots\n",
    "sns.boxplot(x='Age group', y='Pneumonia Deaths', data = df_nz_pneu)\n",
    "plt.show()\n",
    "sns.boxplot(x='Age group', y='Pneumonia Deaths', data = df)\n",
    "plt.show()\n",
    "# It is shown in the box plots that only signicant data in the non-zero data starts with Age 30 and up,\n",
    "# so those remaining age groups can be compared.('30-49', '50-64', '65-74', '75-84', '85+')"
   ]
  },
  {
   "cell_type": "code",
   "execution_count": 24,
   "metadata": {},
   "outputs": [
    {
     "data": {
      "image/png": "[encoded data removed]",
      "text/plain": [
       "<Figure size 432x288 with 1 Axes>"
      ]
     },
     "metadata": {
      "needs_background": "light"
     },
     "output_type": "display_data"
    }
   ],
   "source": [
    "# comparing the non-zero distribution to the zero inclusive distribution\n",
    "df_nz_pneu['Pneumonia Deaths'].hist(alpha = 0.5)\n",
    "df['Pneumonia Deaths'].hist(alpha = 0.5)\n",
    "plt.show()"
   ]
  },
  {
   "cell_type": "code",
   "execution_count": 18,
   "metadata": {},
   "outputs": [
    {
     "data": {
      "text/plain": [
       "75-84 years          104\n",
       "85 years and over    103\n",
       "65-74 years          102\n",
       "50-64 years           98\n",
       "30-49 years           83\n",
       "18-29 years           28\n",
       "0-17 years             2\n",
       "Name: Age group, dtype: int64"
      ]
     },
     "execution_count": 18,
     "metadata": {},
     "output_type": "execute_result"
    }
   ],
   "source": [
    "df_nz_covid['Age group'].value_counts()"
   ]
  },
  {
   "cell_type": "code",
   "execution_count": 29,
   "metadata": {},
   "outputs": [
    {
     "data": {
      "image/png": "[encoded data removed]",
      "text/plain": [
       "<Figure size 432x288 with 1 Axes>"
      ]
     },
     "metadata": {
      "needs_background": "light"
     },
     "output_type": "display_data"
    },
    {
     "data": {
      "image/png": "[encoded data removed]",
      "text/plain": [
       "<Figure size 432x288 with 1 Axes>"
      ]
     },
     "metadata": {
      "needs_background": "light"
     },
     "output_type": "display_data"
    }
   ],
   "source": [
    "# observing data with COVID-19 deaths > 0\n",
    "# I think that it will be of greater value to observe instances where the virus is fatally active\n",
    "sns.boxplot(x='Age group', y='COVID-19 Deaths', data = df_nz_covid)\n",
    "plt.show()\n",
    "# observing data with '0 COVID-19 deaths reported' data included\n",
    "sns.boxplot(x='Age group', y='COVID-19 Deaths', data = df)\n",
    "plt.show()"
   ]
  },
  {
   "cell_type": "code",
   "execution_count": 21,
   "metadata": {},
   "outputs": [
    {
     "name": "stdout",
     "output_type": "stream",
     "text": [
      "53\n"
     ]
    }
   ],
   "source": [
    "print(len(df_nz_covid['State'].unique()))"
   ]
  },
  {
   "cell_type": "markdown",
   "metadata": {},
   "source": [
    "None of the data grouped by 'Age group' for 'COVID-19 Deaths > 0' has a normal distribution, so a normal t-test will not due."
   ]
  },
  {
   "cell_type": "code",
   "execution_count": null,
   "metadata": {},
   "outputs": [],
   "source": [
    "# there are too few values for the the smaller age groups so I will combine them and compare ages 0-49 to 50+.\n"
   ]
  },
  {
   "cell_type": "code",
   "execution_count": 140,
   "metadata": {},
   "outputs": [],
   "source": [
    "nolist = ['50-64 years', '65-74 years', '75-84 years', '85 years and over']\n",
    "for x in nolist:\n",
    "    df_nz_covid = df_nz_covid[df_nz_covid['Age group'] != x]\n",
    "\n",
    "df_0_49 = df_nonzero\n",
    "\n",
    "df_nonzero = df[df['COVID-19 Deaths'] >= 1]\n",
    "\n",
    "nolist = ['0-17 years', '18-29 years', '30-49 years']\n",
    "for x in nolist:\n",
    "    df_nonzero = df_nonzero[df_nonzero['Age group'] != x]\n",
    "df_50plus = df_nonzero"
   ]
  },
  {
   "cell_type": "code",
   "execution_count": 146,
   "metadata": {},
   "outputs": [
    {
     "data": {
      "text/plain": [
       "DescribeResult(nobs=113, minmax=(10.0, 932.0), mean=96.070796460177, variance=25213.31637168141, skewness=3.51510548423969, kurtosis=13.470005280022523)"
      ]
     },
     "execution_count": 146,
     "metadata": {},
     "output_type": "execute_result"
    },
    {
     "data": {
      "image/png": "[encoded data removed]",
      "text/plain": [
       "<Figure size 432x288 with 1 Axes>"
      ]
     },
     "metadata": {
      "needs_background": "light"
     },
     "output_type": "display_data"
    }
   ],
   "source": [
    "df_0_49['COVID-19 Deaths'].hist()\n",
    "stats.describe(df_0_49['COVID-19 Deaths'])"
   ]
  },
  {
   "cell_type": "code",
   "execution_count": 147,
   "metadata": {},
   "outputs": [
    {
     "data": {
      "text/plain": [
       "DescribeResult(nobs=407, minmax=(10.0, 3307.0), mean=524.2383292383292, variance=446490.2460149356, skewness=2.0707850354818573, kurtosis=3.9170710792020165)"
      ]
     },
     "execution_count": 147,
     "metadata": {},
     "output_type": "execute_result"
    },
    {
     "data": {
      "image/png": "[encoded data removed]",
      "text/plain": [
       "<Figure size 432x288 with 1 Axes>"
      ]
     },
     "metadata": {
      "needs_background": "light"
     },
     "output_type": "display_data"
    }
   ],
   "source": [
    "df_50plus['COVID-19 Deaths'].hist()\n",
    "stats.describe(df_50plus['COVID-19 Deaths'])"
   ]
  },
  {
   "cell_type": "code",
   "execution_count": 148,
   "metadata": {},
   "outputs": [
    {
     "data": {
      "image/png": "[encoded data removed]",
      "text/plain": [
       "<Figure size 432x288 with 1 Axes>"
      ]
     },
     "metadata": {
      "needs_background": "light"
     },
     "output_type": "display_data"
    },
    {
     "data": {
      "image/png": "[encoded data removed]",
      "text/plain": [
       "<Figure size 432x288 with 1 Axes>"
      ]
     },
     "metadata": {
      "needs_background": "light"
     },
     "output_type": "display_data"
    }
   ],
   "source": [
    "qqplot(df_0_49['COVID-19 Deaths'], line = 's')\n",
    "plt.title(\"Age 0-49\")\n",
    "plt.show()\n",
    "\n",
    "qqplot(df_50plus['COVID-19 Deaths'], line = 's')\n",
    "plt.title('Age 50+')\n",
    "plt.show()\n",
    "\n"
   ]
  },
  {
   "cell_type": "markdown",
   "metadata": {},
   "source": [
    "As seen via the qqplot, the two data sets are not normally distributed, but the do have a similar distribution."
   ]
  },
  {
   "cell_type": "code",
   "execution_count": 149,
   "metadata": {},
   "outputs": [
    {
     "data": {
      "text/plain": [
       "4.9011122020891656e-26"
      ]
     },
     "execution_count": 149,
     "metadata": {},
     "output_type": "execute_result"
    }
   ],
   "source": [
    "_, p = stats.kruskal(df_0_49['COVID-19 Deaths'], df_50plus['COVID-19 Deaths'])\n",
    "p"
   ]
  },
  {
   "cell_type": "code",
   "execution_count": 150,
   "metadata": {},
   "outputs": [
    {
     "data": {
      "text/plain": [
       "True"
      ]
     },
     "execution_count": 150,
     "metadata": {},
     "output_type": "execute_result"
    }
   ],
   "source": [
    "p < 0.05"
   ]
  },
  {
   "cell_type": "code",
   "execution_count": 151,
   "metadata": {},
   "outputs": [
    {
     "data": {
      "image/png": "[encoded data removed]",
      "text/plain": [
       "<Figure size 432x288 with 1 Axes>"
      ]
     },
     "metadata": {
      "needs_background": "light"
     },
     "output_type": "display_data"
    },
    {
     "data": {
      "text/plain": [
       "(-290.0, -186.0)"
      ]
     },
     "execution_count": 151,
     "metadata": {},
     "output_type": "execute_result"
    }
   ],
   "source": [
    "median_diffs = []\n",
    "for i in range(10000):\n",
    "    sample_1 = df_0_49['COVID-19 Deaths'].sample(frac=1.0, replace=True)\n",
    "    sample_2 = df_50plus['COVID-19 Deaths'].sample(frac=1.0, replace=True)\n",
    "\n",
    "    median_diff = sample_1.median() - sample_2.median()\n",
    "    median_diffs.append(median_diff)\n",
    "\n",
    "\n",
    "plt.hist(median_diffs)\n",
    "plt.show()\n",
    "\n",
    "ci_lo = np.percentile(median_diffs, 2.5)\n",
    "ci_hi = np.percentile(median_diffs, 97.5)\n",
    "\n",
    "ci_lo, ci_hi"
   ]
  },
  {
   "cell_type": "markdown",
   "metadata": {},
   "source": [
    "We can see from the analysis above that when considering only non-zero death counts, there 186 to 290 more deaths reported in the '50+' age group compared to the '0-49' age group"
   ]
  },
  {
   "cell_type": "code",
   "execution_count": 153,
   "metadata": {},
   "outputs": [
    {
     "data": {
      "text/plain": [
       "(-264.0, -134.0)"
      ]
     },
     "execution_count": 153,
     "metadata": {},
     "output_type": "execute_result"
    }
   ],
   "source": [
    "calc_non_param_ci(df_0_49['COVID-19 Deaths'], df_50plus['COVID-19 Deaths'], alpha=0.05)"
   ]
  },
  {
   "cell_type": "code",
   "execution_count": 154,
   "metadata": {},
   "outputs": [
    {
     "data": {
      "text/plain": [
       "0.8228783892500706"
      ]
     },
     "execution_count": 154,
     "metadata": {},
     "output_type": "execute_result"
    }
   ],
   "source": [
    "cles_ind(df_0_49['COVID-19 Deaths'], df_50plus['COVID-19 Deaths'])"
   ]
  },
  {
   "cell_type": "markdown",
   "metadata": {},
   "source": [
    "According to the common language effect size, the number of COVID-19 deaths reported from the '50+' age group would be expected to be ~82.3% larger than the COVID-19 deaths reported from the '0-49' age group when we only consider deaths reported to be >= 1."
   ]
  },
  {
   "cell_type": "code",
   "execution_count": null,
   "metadata": {},
   "outputs": [],
   "source": []
  }
 ],
 "metadata": {
  "kernelspec": {
   "display_name": "Python 3",
   "language": "python",
   "name": "python3"
  },
  "language_info": {
   "codemirror_mode": {
    "name": "ipython",
    "version": 3
   },
   "file_extension": ".py",
   "mimetype": "text/x-python",
   "name": "python",
   "nbconvert_exporter": "python",
   "pygments_lexer": "ipython3",
   "version": "3.8.3"
  }
 },
 "nbformat": 4,
 "nbformat_minor": 4
}
